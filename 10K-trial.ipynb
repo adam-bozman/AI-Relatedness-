{
 "cells": [
  {
   "cell_type": "code",
   "execution_count": 3,
   "id": "2b54a11b-7856-46f5-a9d5-5612425c89dd",
   "metadata": {
    "tags": []
   },
   "outputs": [
    {
     "name": "stdout",
     "output_type": "stream",
     "text": [
      "Loading library list...\n",
      "Done\n"
     ]
    }
   ],
   "source": [
    "import wrds\n",
    "import os\n",
    "import pandas as pd\n",
    "import numpy as np\n",
    "# from tqdm import tqdm  # Import tqdm for the progress bar\n",
    "\n",
    "# Establish connection\n",
    "conn = wrds.Connection()"
   ]
  },
  {
   "cell_type": "code",
   "execution_count": 4,
   "id": "6e8a4ca8-9671-46d5-b456-ee8eada00780",
   "metadata": {
    "tags": []
   },
   "outputs": [],
   "source": [
    "# Define AI-related keywords\n",
    "ai_keywords = ['Machine Learning', 'NLP', 'Natural Language Processing', 'Computer Vision', 'CV', 'Artificial Intelligence', 'AI']\n",
    "\n",
    "# Function to calculate AI-relatedness measure\n",
    "def calculate_ai_relatedness(text, keywords):\n",
    "    text_lower = text.lower()\n",
    "    total_words = len(text_lower.split())\n",
    "    ai_count = sum(text_lower.count(keyword.lower()) for keyword in keywords)\n",
    "    return ai_count / total_words if total_words > 0 else 0"
   ]
  },
  {
   "cell_type": "code",
   "execution_count": 5,
   "id": "7a7ac199-0c75-4f1c-a6ce-55a134dd57e0",
   "metadata": {
    "tags": []
   },
   "outputs": [],
   "source": [
    "# Define the date range for the last five years\n",
    "begDate = '01/01/2023'\n",
    "endDate = '12/31/2023'"
   ]
  },
  {
   "cell_type": "code",
   "execution_count": 6,
   "id": "7b0398f0-e3c0-4f0c-818a-a5a82bf979c9",
   "metadata": {
    "tags": []
   },
   "outputs": [],
   "source": [
    "# Fetch 10-K filings information for all companies\n",
    "form10k = conn.raw_sql(f\"\"\"\n",
    "                select distinct a.cik, a.fdate, a.form, a.wrdsfname, b.tickerh\n",
    "                from wrdssec.wrds_forms as a \n",
    "                inner join \n",
    "                wrdssec.wciklink_names as b\n",
    "                on a.cik=b.cik\n",
    "                where a.form = '10-K'\n",
    "                and a.fdate between '{begDate}' and '{endDate}'\n",
    "                \"\"\", date_cols = ['fdate'])\n",
    "\n",
    "form10k = form10k.sort_values(by=['cik', 'fdate'])\n"
   ]
  },
  {
   "cell_type": "code",
   "execution_count": 7,
   "id": "9cd225a7-5553-4575-a333-3d397b2ccffd",
   "metadata": {
    "tags": []
   },
   "outputs": [],
   "source": [
    "# Path to WRDS server for filings\n",
    "base_path = '/wrds/sec/wrds_clean_filings'\n",
    "\n",
    "# Extract text content from filings\n",
    "textLst = []\n",
    "file_errors = []  # List to store errors for debugging\n",
    "ai_relatedness_scores = []  # List to store AI-relatedness scores"
   ]
  },
  {
   "cell_type": "code",
   "execution_count": 8,
   "id": "405a9b91-fbd1-4a49-a13e-745eeedbeab8",
   "metadata": {
    "tags": []
   },
   "outputs": [
    {
     "name": "stdout",
     "output_type": "stream",
     "text": [
      "File not found on server: /wrds/sec/wrds_clean_filings/000189/1895262/0001628280-23-007260.txt\n",
      "File not found on server: /wrds/sec/wrds_clean_filings/000189/1895262/0001628280-23-007260.txt\n"
     ]
    }
   ],
   "source": [
    "for item in form10k['wrdsfname']:\n",
    "    wrdsLoc = os.path.join(base_path, item)\n",
    "#    print(f\"Checking file: {wrdsLoc}\")  # Debug statement\n",
    "    if os.path.exists(wrdsLoc):\n",
    "        try:\n",
    "            with open(wrdsLoc) as f:\n",
    "                text = f.read()\n",
    "                textLst.append(text)\n",
    "                ai_relatedness_scores.append(calculate_ai_relatedness(text, ai_keywords))\n",
    "        except Exception as e:\n",
    "            error_message = f\"Error reading file {wrdsLoc}: {e}\"\n",
    "            print(error_message)\n",
    "            file_errors.append(error_message)\n",
    "            ai_relatedness_scores.append(np.nan)  # Append NaN for missing files\n",
    "    else:\n",
    "        error_message = f\"File not found on server: {wrdsLoc}\"\n",
    "        print(error_message)\n",
    "        file_errors.append(error_message)\n",
    "        ai_relatedness_scores.append(np.nan)  # Append NaN for missing files\n",
    "        \n",
    "len(textLst)\n",
    "\n",
    "# Output the errors for further analysis\n",
    "for error in file_errors:\n",
    "    print(error)\n"
   ]
  },
  {
   "cell_type": "code",
   "execution_count": 9,
   "id": "3a22ef55-f199-45db-8f8a-76de952996b2",
   "metadata": {},
   "outputs": [],
   "source": [
    "# Ensure the length of AI-relatedness scores matches the DataFrame length\n",
    "if len(ai_relatedness_scores) == len(form10k):\n",
    "    form10k['AI_Relatedness'] = ai_relatedness_scores\n",
    "else:\n",
    "    print(\"Mismatch between the number of AI-relatedness scores and DataFrame rows.\")\n"
   ]
  },
  {
   "cell_type": "code",
   "execution_count": 10,
   "id": "777b8b7f-a57c-434e-bc02-89130e689b03",
   "metadata": {},
   "outputs": [],
   "source": [
    "# Bin the companies into equal quintiles based on their AI-relatedness measure\n",
    "form10k['AI_Relatedness_Quintile'] = pd.qcut(form10k['AI_Relatedness'], 5, labels=False) + 1"
   ]
  },
  {
   "cell_type": "code",
   "execution_count": 11,
   "id": "d31a993e-7590-4139-8654-12998959efbd",
   "metadata": {},
   "outputs": [
    {
     "name": "stdout",
     "output_type": "stream",
     "text": [
      "          cik      fdate  form                             wrdsfname tickerh  \\\n",
      "0  0000001750 2023-07-18  10-K  000000/1750/0001104659-23-082069.txt     AIR   \n",
      "1  0000001800 2023-02-17  10-K  000000/1800/0001628280-23-004026.txt     ABT   \n",
      "2  0000001961 2023-03-31  10-K  000000/1961/0001264931-23-000006.txt    WDDD   \n",
      "3  0000002098 2023-03-10  10-K  000000/2098/0001564590-23-003422.txt     ACU   \n",
      "4  0000002178 2023-03-16  10-K  000000/2178/0000002178-23-000038.txt      AE   \n",
      "\n",
      "   AI_Relatedness  AI_Relatedness_Quintile  \n",
      "0        0.021989                      5.0  \n",
      "1        0.019663                      5.0  \n",
      "2        0.018132                      4.0  \n",
      "3        0.015954                      2.0  \n",
      "4        0.019059                      4.0  \n"
     ]
    }
   ],
   "source": [
    "# Display the updated DataFrame\n",
    "print(form10k.head())"
   ]
  },
  {
   "cell_type": "code",
   "execution_count": 12,
   "id": "13305dc5-b90e-4866-baad-a0ff6ff9022f",
   "metadata": {
    "tags": []
   },
   "outputs": [
    {
     "data": {
      "text/html": [
       "<div>\n",
       "<style scoped>\n",
       "    .dataframe tbody tr th:only-of-type {\n",
       "        vertical-align: middle;\n",
       "    }\n",
       "\n",
       "    .dataframe tbody tr th {\n",
       "        vertical-align: top;\n",
       "    }\n",
       "\n",
       "    .dataframe thead th {\n",
       "        text-align: right;\n",
       "    }\n",
       "</style>\n",
       "<table border=\"1\" class=\"dataframe\">\n",
       "  <thead>\n",
       "    <tr style=\"text-align: right;\">\n",
       "      <th></th>\n",
       "      <th>cik</th>\n",
       "      <th>fdate</th>\n",
       "      <th>form</th>\n",
       "      <th>wrdsfname</th>\n",
       "      <th>tickerh</th>\n",
       "      <th>AI_Relatedness</th>\n",
       "      <th>AI_Relatedness_Quintile</th>\n",
       "    </tr>\n",
       "  </thead>\n",
       "  <tbody>\n",
       "    <tr>\n",
       "      <th>0</th>\n",
       "      <td>0000001750</td>\n",
       "      <td>2023-07-18</td>\n",
       "      <td>10-K</td>\n",
       "      <td>000000/1750/0001104659-23-082069.txt</td>\n",
       "      <td>AIR</td>\n",
       "      <td>0.021989</td>\n",
       "      <td>5.0</td>\n",
       "    </tr>\n",
       "    <tr>\n",
       "      <th>1</th>\n",
       "      <td>0000001800</td>\n",
       "      <td>2023-02-17</td>\n",
       "      <td>10-K</td>\n",
       "      <td>000000/1800/0001628280-23-004026.txt</td>\n",
       "      <td>ABT</td>\n",
       "      <td>0.019663</td>\n",
       "      <td>5.0</td>\n",
       "    </tr>\n",
       "    <tr>\n",
       "      <th>2</th>\n",
       "      <td>0000001961</td>\n",
       "      <td>2023-03-31</td>\n",
       "      <td>10-K</td>\n",
       "      <td>000000/1961/0001264931-23-000006.txt</td>\n",
       "      <td>WDDD</td>\n",
       "      <td>0.018132</td>\n",
       "      <td>4.0</td>\n",
       "    </tr>\n",
       "    <tr>\n",
       "      <th>3</th>\n",
       "      <td>0000002098</td>\n",
       "      <td>2023-03-10</td>\n",
       "      <td>10-K</td>\n",
       "      <td>000000/2098/0001564590-23-003422.txt</td>\n",
       "      <td>ACU</td>\n",
       "      <td>0.015954</td>\n",
       "      <td>2.0</td>\n",
       "    </tr>\n",
       "    <tr>\n",
       "      <th>4</th>\n",
       "      <td>0000002178</td>\n",
       "      <td>2023-03-16</td>\n",
       "      <td>10-K</td>\n",
       "      <td>000000/2178/0000002178-23-000038.txt</td>\n",
       "      <td>AE</td>\n",
       "      <td>0.019059</td>\n",
       "      <td>4.0</td>\n",
       "    </tr>\n",
       "  </tbody>\n",
       "</table>\n",
       "</div>"
      ],
      "text/plain": [
       "          cik      fdate  form                             wrdsfname tickerh  \\\n",
       "0  0000001750 2023-07-18  10-K  000000/1750/0001104659-23-082069.txt     AIR   \n",
       "1  0000001800 2023-02-17  10-K  000000/1800/0001628280-23-004026.txt     ABT   \n",
       "2  0000001961 2023-03-31  10-K  000000/1961/0001264931-23-000006.txt    WDDD   \n",
       "3  0000002098 2023-03-10  10-K  000000/2098/0001564590-23-003422.txt     ACU   \n",
       "4  0000002178 2023-03-16  10-K  000000/2178/0000002178-23-000038.txt      AE   \n",
       "\n",
       "   AI_Relatedness  AI_Relatedness_Quintile  \n",
       "0        0.021989                      5.0  \n",
       "1        0.019663                      5.0  \n",
       "2        0.018132                      4.0  \n",
       "3        0.015954                      2.0  \n",
       "4        0.019059                      4.0  "
      ]
     },
     "execution_count": 12,
     "metadata": {},
     "output_type": "execute_result"
    }
   ],
   "source": [
    "form10k.head()"
   ]
  },
  {
   "cell_type": "code",
   "execution_count": 13,
   "id": "4d3ddf65-3303-4201-9bf1-1658f4e6d8ea",
   "metadata": {
    "tags": []
   },
   "outputs": [
    {
     "name": "stdout",
     "output_type": "stream",
     "text": [
      "   Quintile  Average_AI_Relatedness\n",
      "0       1.0                0.009343\n",
      "1       2.0                0.015538\n",
      "2       3.0                0.017231\n",
      "3       4.0                0.018733\n",
      "4       5.0                0.021970\n"
     ]
    }
   ],
   "source": [
    "# Aggregate the AI-relatedness measure by quintile\n",
    "quintile_summary = form10k.groupby('AI_Relatedness_Quintile')['AI_Relatedness'].mean().reset_index()\n",
    "quintile_summary.columns = ['Quintile', 'Average_AI_Relatedness']\n",
    "\n",
    "# Display the quintile summary\n",
    "print(quintile_summary)\n"
   ]
  },
  {
   "cell_type": "markdown",
   "id": "4f56aaf0-79cc-43b2-9422-adce60fd513a",
   "metadata": {},
   "source": [
    "## AI-Relatedness Measure\n",
    "\n",
    "The AI-relatedness measure \\( wAI \\) is calculated using the following formula:\n",
    "\n",
    "$$\n",
    "wAI = \\frac{\\text{Total AI-related keywords}}{\\text{Total words in the cleaned 10-K filing}}\n",
    "$$\n",
    "\n",
    "Where:\n",
    "\n",
    "- **Total AI-related keywords**: The count of occurrences of AI-related keywords (e.g., Machine Learning, NLP, CV, AI) in the 10-K filing.\n",
    "- **Total words**: The total number of words in the cleaned 10-K filing.\n"
   ]
  }
 ],
 "metadata": {
  "kernelspec": {
   "display_name": "Python 3 (ipykernel)",
   "language": "python",
   "name": "python3"
  },
  "language_info": {
   "codemirror_mode": {
    "name": "ipython",
    "version": 3
   },
   "file_extension": ".py",
   "mimetype": "text/x-python",
   "name": "python",
   "nbconvert_exporter": "python",
   "pygments_lexer": "ipython3",
   "version": "3.11.4"
  }
 },
 "nbformat": 4,
 "nbformat_minor": 5
}
